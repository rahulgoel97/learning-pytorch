{
 "cells": [
  {
   "cell_type": "code",
   "execution_count": 25,
   "metadata": {},
   "outputs": [],
   "source": [
    "from torch.utils.data import DataLoader, TensorDataset, random_split\n",
    "import pandas as pd\n",
    "import torch"
   ]
  },
  {
   "cell_type": "markdown",
   "metadata": {},
   "source": [
    "# 1 - Get data & EDA"
   ]
  },
  {
   "cell_type": "code",
   "execution_count": 2,
   "metadata": {},
   "outputs": [
    {
     "name": "stdout",
     "output_type": "stream",
     "text": [
      "== Section 1: EDA ==\n",
      "   age     sex     bmi  children smoker     region      charges\n",
      "0   19  female  27.900         0    yes  southwest  16884.92400\n",
      "1   18    male  33.770         1     no  southeast   1725.55230\n",
      "2   28    male  33.000         3     no  southeast   4449.46200\n",
      "3   33    male  22.705         0     no  northwest  21984.47061\n",
      "4   32    male  28.880         0     no  northwest   3866.85520\n",
      "Rows: 1338 | Columns: 7\n",
      "\n",
      "\n",
      "Range for target variable: count     1338.000000\n",
      "mean     13270.422265\n",
      "std      12110.011237\n",
      "min       1121.873900\n",
      "25%       4740.287150\n",
      "50%       9382.033000\n",
      "75%      16639.912515\n",
      "max      63770.428010\n",
      "Name: charges, dtype: float64\n",
      "\n",
      "---------------------------------\n",
      "\n"
     ]
    }
   ],
   "source": [
    "# Section 1\n",
    "print(\"== Section 1: EDA ==\")\n",
    "\n",
    "# Check the dataset\n",
    "df = pd.read_csv('insurance.csv')\n",
    "print(df.head())\n",
    "\n",
    "print(f\"Rows: {len(df)} | Columns: {len(df.columns)}\") # 1338 x 6 features + 1 target\n",
    "\n",
    "print(f\"\\n\\nRange for target variable: {df['charges'].describe()}\")\n",
    "print(\"\\n---------------------------------\\n\")"
   ]
  },
  {
   "cell_type": "code",
   "execution_count": 9,
   "metadata": {},
   "outputs": [],
   "source": [
    "df_copy = df.copy()"
   ]
  },
  {
   "cell_type": "markdown",
   "metadata": {},
   "source": [
    "# 2: Prepare dataset"
   ]
  },
  {
   "cell_type": "markdown",
   "metadata": {},
   "source": [
    "Summary\n",
    "\n",
    "1. Treat non-categoricals with df._get_numeric_data().columns\n",
    "2. Df -> numpy with .to_numpy()\n",
    "3. Create X, y tensors torch.from_numpy()\n",
    "4. TensorDataset(X, y)\n",
    "5. DataLoader(ds, batch_size=args, shuffle=True for train)\n",
    "6. Create DataLoader() for testing"
   ]
  },
  {
   "cell_type": "code",
   "execution_count": 59,
   "metadata": {},
   "outputs": [
    {
     "name": "stdout",
     "output_type": "stream",
     "text": [
      "== Section 2: Prepare dataset ==\n"
     ]
    }
   ],
   "source": [
    "# Section 2\n",
    "print(\"== Section 2: Prepare dataset ==\")\n",
    "\n",
    "# 1. Treat categorical variables\n",
    "# 2. Split out features and labels\n",
    "# 3. Convert to tensors of approrpriate size\n",
    "# 4. Convert to training and testing batches using DataLoader"
   ]
  },
  {
   "cell_type": "code",
   "execution_count": 5,
   "metadata": {},
   "outputs": [],
   "source": [
    "numeric_cols = df._get_numeric_data().columns"
   ]
  },
  {
   "cell_type": "code",
   "execution_count": 6,
   "metadata": {},
   "outputs": [
    {
     "data": {
      "text/plain": [
       "Index(['age', 'bmi', 'children', 'charges'], dtype='object')"
      ]
     },
     "execution_count": 6,
     "metadata": {},
     "output_type": "execute_result"
    }
   ],
   "source": [
    "numeric_cols"
   ]
  },
  {
   "cell_type": "code",
   "execution_count": 8,
   "metadata": {},
   "outputs": [
    {
     "data": {
      "text/plain": [
       "['sex', 'region', 'smoker']"
      ]
     },
     "execution_count": 8,
     "metadata": {},
     "output_type": "execute_result"
    }
   ],
   "source": [
    "categorical_cols = list(set(df.columns) - set(numeric_cols))\n",
    "categorical_cols\n"
   ]
  },
  {
   "cell_type": "code",
   "execution_count": 11,
   "metadata": {},
   "outputs": [],
   "source": [
    "for categorical_col in categorical_cols:\n",
    "    df_copy[categorical_col] = df_copy[categorical_col].astype('category').cat.codes"
   ]
  },
  {
   "cell_type": "code",
   "execution_count": 12,
   "metadata": {},
   "outputs": [
    {
     "data": {
      "text/html": [
       "<div>\n",
       "<style scoped>\n",
       "    .dataframe tbody tr th:only-of-type {\n",
       "        vertical-align: middle;\n",
       "    }\n",
       "\n",
       "    .dataframe tbody tr th {\n",
       "        vertical-align: top;\n",
       "    }\n",
       "\n",
       "    .dataframe thead th {\n",
       "        text-align: right;\n",
       "    }\n",
       "</style>\n",
       "<table border=\"1\" class=\"dataframe\">\n",
       "  <thead>\n",
       "    <tr style=\"text-align: right;\">\n",
       "      <th></th>\n",
       "      <th>age</th>\n",
       "      <th>sex</th>\n",
       "      <th>bmi</th>\n",
       "      <th>children</th>\n",
       "      <th>smoker</th>\n",
       "      <th>region</th>\n",
       "      <th>charges</th>\n",
       "    </tr>\n",
       "  </thead>\n",
       "  <tbody>\n",
       "    <tr>\n",
       "      <th>0</th>\n",
       "      <td>19</td>\n",
       "      <td>0</td>\n",
       "      <td>27.900</td>\n",
       "      <td>0</td>\n",
       "      <td>1</td>\n",
       "      <td>3</td>\n",
       "      <td>16884.92400</td>\n",
       "    </tr>\n",
       "    <tr>\n",
       "      <th>1</th>\n",
       "      <td>18</td>\n",
       "      <td>1</td>\n",
       "      <td>33.770</td>\n",
       "      <td>1</td>\n",
       "      <td>0</td>\n",
       "      <td>2</td>\n",
       "      <td>1725.55230</td>\n",
       "    </tr>\n",
       "    <tr>\n",
       "      <th>2</th>\n",
       "      <td>28</td>\n",
       "      <td>1</td>\n",
       "      <td>33.000</td>\n",
       "      <td>3</td>\n",
       "      <td>0</td>\n",
       "      <td>2</td>\n",
       "      <td>4449.46200</td>\n",
       "    </tr>\n",
       "    <tr>\n",
       "      <th>3</th>\n",
       "      <td>33</td>\n",
       "      <td>1</td>\n",
       "      <td>22.705</td>\n",
       "      <td>0</td>\n",
       "      <td>0</td>\n",
       "      <td>1</td>\n",
       "      <td>21984.47061</td>\n",
       "    </tr>\n",
       "    <tr>\n",
       "      <th>4</th>\n",
       "      <td>32</td>\n",
       "      <td>1</td>\n",
       "      <td>28.880</td>\n",
       "      <td>0</td>\n",
       "      <td>0</td>\n",
       "      <td>1</td>\n",
       "      <td>3866.85520</td>\n",
       "    </tr>\n",
       "    <tr>\n",
       "      <th>...</th>\n",
       "      <td>...</td>\n",
       "      <td>...</td>\n",
       "      <td>...</td>\n",
       "      <td>...</td>\n",
       "      <td>...</td>\n",
       "      <td>...</td>\n",
       "      <td>...</td>\n",
       "    </tr>\n",
       "    <tr>\n",
       "      <th>1333</th>\n",
       "      <td>50</td>\n",
       "      <td>1</td>\n",
       "      <td>30.970</td>\n",
       "      <td>3</td>\n",
       "      <td>0</td>\n",
       "      <td>1</td>\n",
       "      <td>10600.54830</td>\n",
       "    </tr>\n",
       "    <tr>\n",
       "      <th>1334</th>\n",
       "      <td>18</td>\n",
       "      <td>0</td>\n",
       "      <td>31.920</td>\n",
       "      <td>0</td>\n",
       "      <td>0</td>\n",
       "      <td>0</td>\n",
       "      <td>2205.98080</td>\n",
       "    </tr>\n",
       "    <tr>\n",
       "      <th>1335</th>\n",
       "      <td>18</td>\n",
       "      <td>0</td>\n",
       "      <td>36.850</td>\n",
       "      <td>0</td>\n",
       "      <td>0</td>\n",
       "      <td>2</td>\n",
       "      <td>1629.83350</td>\n",
       "    </tr>\n",
       "    <tr>\n",
       "      <th>1336</th>\n",
       "      <td>21</td>\n",
       "      <td>0</td>\n",
       "      <td>25.800</td>\n",
       "      <td>0</td>\n",
       "      <td>0</td>\n",
       "      <td>3</td>\n",
       "      <td>2007.94500</td>\n",
       "    </tr>\n",
       "    <tr>\n",
       "      <th>1337</th>\n",
       "      <td>61</td>\n",
       "      <td>0</td>\n",
       "      <td>29.070</td>\n",
       "      <td>0</td>\n",
       "      <td>1</td>\n",
       "      <td>1</td>\n",
       "      <td>29141.36030</td>\n",
       "    </tr>\n",
       "  </tbody>\n",
       "</table>\n",
       "<p>1338 rows × 7 columns</p>\n",
       "</div>"
      ],
      "text/plain": [
       "      age  sex     bmi  children  smoker  region      charges\n",
       "0      19    0  27.900         0       1       3  16884.92400\n",
       "1      18    1  33.770         1       0       2   1725.55230\n",
       "2      28    1  33.000         3       0       2   4449.46200\n",
       "3      33    1  22.705         0       0       1  21984.47061\n",
       "4      32    1  28.880         0       0       1   3866.85520\n",
       "...   ...  ...     ...       ...     ...     ...          ...\n",
       "1333   50    1  30.970         3       0       1  10600.54830\n",
       "1334   18    0  31.920         0       0       0   2205.98080\n",
       "1335   18    0  36.850         0       0       2   1629.83350\n",
       "1336   21    0  25.800         0       0       3   2007.94500\n",
       "1337   61    0  29.070         0       1       1  29141.36030\n",
       "\n",
       "[1338 rows x 7 columns]"
      ]
     },
     "execution_count": 12,
     "metadata": {},
     "output_type": "execute_result"
    }
   ],
   "source": [
    "df_copy"
   ]
  },
  {
   "cell_type": "code",
   "execution_count": 13,
   "metadata": {},
   "outputs": [],
   "source": [
    "y = df_copy['charges']\n",
    "X_reqd_columns = df_copy.columns[0:len(df_copy.columns)-1]\n",
    "X = df_copy[X_reqd_columns]"
   ]
  },
  {
   "cell_type": "code",
   "execution_count": 22,
   "metadata": {},
   "outputs": [
    {
     "data": {
      "text/plain": [
       "array([16884.924 ,  1725.5523,  4449.462 , ...,  1629.8335,  2007.945 ,\n",
       "       29141.3603])"
      ]
     },
     "execution_count": 22,
     "metadata": {},
     "output_type": "execute_result"
    }
   ],
   "source": [
    "y.to_numpy()"
   ]
  },
  {
   "cell_type": "code",
   "execution_count": 21,
   "metadata": {},
   "outputs": [
    {
     "data": {
      "text/plain": [
       "array([[19.  ,  0.  , 27.9 ,  0.  ,  1.  ,  3.  ],\n",
       "       [18.  ,  1.  , 33.77,  1.  ,  0.  ,  2.  ],\n",
       "       [28.  ,  1.  , 33.  ,  3.  ,  0.  ,  2.  ],\n",
       "       ...,\n",
       "       [18.  ,  0.  , 36.85,  0.  ,  0.  ,  2.  ],\n",
       "       [21.  ,  0.  , 25.8 ,  0.  ,  0.  ,  3.  ],\n",
       "       [61.  ,  0.  , 29.07,  0.  ,  1.  ,  1.  ]])"
      ]
     },
     "execution_count": 21,
     "metadata": {},
     "output_type": "execute_result"
    }
   ],
   "source": [
    "X.to_numpy()"
   ]
  },
  {
   "cell_type": "code",
   "execution_count": 26,
   "metadata": {},
   "outputs": [],
   "source": [
    "X_tensor = torch.from_numpy(X.to_numpy())"
   ]
  },
  {
   "cell_type": "code",
   "execution_count": 31,
   "metadata": {},
   "outputs": [
    {
     "data": {
      "text/plain": [
       "torch.Size([1338, 6])"
      ]
     },
     "execution_count": 31,
     "metadata": {},
     "output_type": "execute_result"
    }
   ],
   "source": [
    "X_tensor.shape"
   ]
  },
  {
   "cell_type": "code",
   "execution_count": 28,
   "metadata": {},
   "outputs": [],
   "source": [
    "y_tensor = torch.from_numpy(y.to_numpy())"
   ]
  },
  {
   "cell_type": "code",
   "execution_count": 32,
   "metadata": {},
   "outputs": [
    {
     "data": {
      "text/plain": [
       "torch.Size([1338])"
      ]
     },
     "execution_count": 32,
     "metadata": {},
     "output_type": "execute_result"
    }
   ],
   "source": [
    "y_tensor.shape"
   ]
  },
  {
   "cell_type": "code",
   "execution_count": 50,
   "metadata": {},
   "outputs": [
    {
     "data": {
      "text/plain": [
       "tensor(16884.9240, dtype=torch.float64)"
      ]
     },
     "execution_count": 50,
     "metadata": {},
     "output_type": "execute_result"
    }
   ],
   "source": [
    "y_tensor[0]"
   ]
  },
  {
   "cell_type": "code",
   "execution_count": 29,
   "metadata": {},
   "outputs": [],
   "source": [
    "ds = TensorDataset(X_tensor, y_tensor)"
   ]
  },
  {
   "cell_type": "code",
   "execution_count": 52,
   "metadata": {},
   "outputs": [
    {
     "data": {
      "text/plain": [
       "(tensor([[19.0000,  0.0000, 27.9000,  0.0000,  1.0000,  3.0000],\n",
       "         [18.0000,  1.0000, 33.7700,  1.0000,  0.0000,  2.0000],\n",
       "         [28.0000,  1.0000, 33.0000,  3.0000,  0.0000,  2.0000],\n",
       "         ...,\n",
       "         [18.0000,  0.0000, 36.8500,  0.0000,  0.0000,  2.0000],\n",
       "         [21.0000,  0.0000, 25.8000,  0.0000,  0.0000,  3.0000],\n",
       "         [61.0000,  0.0000, 29.0700,  0.0000,  1.0000,  1.0000]],\n",
       "        dtype=torch.float64),\n",
       " tensor([16884.9240,  1725.5523,  4449.4620,  ...,  1629.8335,  2007.9450,\n",
       "         29141.3603], dtype=torch.float64))"
      ]
     },
     "execution_count": 52,
     "metadata": {},
     "output_type": "execute_result"
    }
   ],
   "source": [
    "ds.tensors"
   ]
  },
  {
   "cell_type": "code",
   "execution_count": 34,
   "metadata": {},
   "outputs": [],
   "source": [
    "train_set_size = int(len(ds) * 0.8)\n",
    "valid_set_size = len(ds) - train_set_size"
   ]
  },
  {
   "cell_type": "code",
   "execution_count": 36,
   "metadata": {},
   "outputs": [],
   "source": [
    "train_ds, val_ds = random_split(ds, [train_set_size, valid_set_size])"
   ]
  },
  {
   "cell_type": "code",
   "execution_count": 38,
   "metadata": {},
   "outputs": [
    {
     "data": {
      "text/plain": [
       "1338"
      ]
     },
     "execution_count": 38,
     "metadata": {},
     "output_type": "execute_result"
    }
   ],
   "source": [
    "len(train_ds)+len(val_ds)"
   ]
  },
  {
   "cell_type": "code",
   "execution_count": 54,
   "metadata": {},
   "outputs": [
    {
     "data": {
      "text/plain": [
       "['__add__',\n",
       " '__annotations__',\n",
       " '__class__',\n",
       " '__class_getitem__',\n",
       " '__delattr__',\n",
       " '__dict__',\n",
       " '__dir__',\n",
       " '__doc__',\n",
       " '__eq__',\n",
       " '__format__',\n",
       " '__ge__',\n",
       " '__getattribute__',\n",
       " '__getitem__',\n",
       " '__gt__',\n",
       " '__hash__',\n",
       " '__init__',\n",
       " '__init_subclass__',\n",
       " '__le__',\n",
       " '__len__',\n",
       " '__lt__',\n",
       " '__module__',\n",
       " '__ne__',\n",
       " '__new__',\n",
       " '__orig_bases__',\n",
       " '__parameters__',\n",
       " '__reduce__',\n",
       " '__reduce_ex__',\n",
       " '__repr__',\n",
       " '__setattr__',\n",
       " '__sizeof__',\n",
       " '__slots__',\n",
       " '__str__',\n",
       " '__subclasshook__',\n",
       " '__weakref__',\n",
       " 'dataset',\n",
       " 'indices']"
      ]
     },
     "execution_count": 54,
     "metadata": {},
     "output_type": "execute_result"
    }
   ],
   "source": [
    "dir(val_ds)"
   ]
  },
  {
   "cell_type": "code",
   "execution_count": 56,
   "metadata": {},
   "outputs": [
    {
     "data": {
      "text/plain": [
       "(tensor([[19.0000,  0.0000, 27.9000,  0.0000,  1.0000,  3.0000],\n",
       "         [18.0000,  1.0000, 33.7700,  1.0000,  0.0000,  2.0000],\n",
       "         [28.0000,  1.0000, 33.0000,  3.0000,  0.0000,  2.0000],\n",
       "         ...,\n",
       "         [18.0000,  0.0000, 36.8500,  0.0000,  0.0000,  2.0000],\n",
       "         [21.0000,  0.0000, 25.8000,  0.0000,  0.0000,  3.0000],\n",
       "         [61.0000,  0.0000, 29.0700,  0.0000,  1.0000,  1.0000]],\n",
       "        dtype=torch.float64),\n",
       " tensor([16884.9240,  1725.5523,  4449.4620,  ...,  1629.8335,  2007.9450,\n",
       "         29141.3603], dtype=torch.float64))"
      ]
     },
     "execution_count": 56,
     "metadata": {},
     "output_type": "execute_result"
    }
   ],
   "source": [
    "val_ds.dataset.tensors"
   ]
  },
  {
   "cell_type": "code",
   "execution_count": 57,
   "metadata": {},
   "outputs": [],
   "source": [
    "train_loader = DataLoader(train_ds, batch_size=50, shuffle=True)\n",
    "test_loader = DataLoader(val_ds, batch_size=50)"
   ]
  },
  {
   "cell_type": "code",
   "execution_count": 58,
   "metadata": {},
   "outputs": [
    {
     "name": "stdout",
     "output_type": "stream",
     "text": [
      "tensor([[36.0000,  1.0000, 28.8800,  3.0000,  0.0000,  0.0000],\n",
      "        [21.0000,  1.0000, 31.1000,  0.0000,  0.0000,  3.0000],\n",
      "        [28.0000,  1.0000, 38.0600,  0.0000,  0.0000,  2.0000],\n",
      "        [35.0000,  0.0000, 26.1250,  0.0000,  0.0000,  0.0000],\n",
      "        [48.0000,  0.0000, 22.8000,  0.0000,  0.0000,  3.0000],\n",
      "        [31.0000,  1.0000, 36.3000,  2.0000,  1.0000,  3.0000],\n",
      "        [27.0000,  0.0000, 23.2100,  1.0000,  0.0000,  2.0000],\n",
      "        [24.0000,  1.0000, 29.3000,  0.0000,  0.0000,  3.0000],\n",
      "        [42.0000,  0.0000, 26.6000,  0.0000,  1.0000,  1.0000],\n",
      "        [18.0000,  1.0000, 34.1000,  0.0000,  0.0000,  2.0000],\n",
      "        [29.0000,  0.0000, 20.2350,  2.0000,  0.0000,  1.0000],\n",
      "        [18.0000,  0.0000, 32.1200,  2.0000,  0.0000,  2.0000],\n",
      "        [38.0000,  0.0000, 37.7300,  0.0000,  0.0000,  2.0000],\n",
      "        [53.0000,  0.0000, 35.9000,  2.0000,  0.0000,  3.0000],\n",
      "        [18.0000,  0.0000, 24.0900,  1.0000,  0.0000,  2.0000],\n",
      "        [34.0000,  0.0000, 27.5000,  1.0000,  0.0000,  3.0000],\n",
      "        [50.0000,  1.0000, 32.3000,  2.0000,  0.0000,  3.0000],\n",
      "        [60.0000,  1.0000, 24.3200,  1.0000,  0.0000,  1.0000],\n",
      "        [22.0000,  1.0000, 34.8000,  3.0000,  0.0000,  3.0000],\n",
      "        [39.0000,  1.0000, 26.2200,  1.0000,  0.0000,  1.0000],\n",
      "        [18.0000,  0.0000, 37.2900,  1.0000,  0.0000,  2.0000],\n",
      "        [45.0000,  0.0000, 35.8150,  0.0000,  0.0000,  1.0000],\n",
      "        [18.0000,  1.0000, 29.3700,  1.0000,  0.0000,  2.0000],\n",
      "        [49.0000,  1.0000, 29.8300,  1.0000,  0.0000,  0.0000],\n",
      "        [55.0000,  1.0000, 28.9750,  0.0000,  0.0000,  0.0000],\n",
      "        [46.0000,  0.0000, 33.7250,  1.0000,  0.0000,  0.0000],\n",
      "        [64.0000,  1.0000, 37.9050,  0.0000,  0.0000,  1.0000],\n",
      "        [62.0000,  1.0000, 39.9300,  0.0000,  0.0000,  2.0000],\n",
      "        [35.0000,  1.0000, 27.6100,  1.0000,  0.0000,  2.0000],\n",
      "        [22.0000,  1.0000, 39.5000,  0.0000,  0.0000,  3.0000],\n",
      "        [24.0000,  0.0000, 22.6000,  0.0000,  0.0000,  3.0000],\n",
      "        [41.0000,  1.0000, 37.0500,  2.0000,  0.0000,  1.0000],\n",
      "        [59.0000,  1.0000, 37.4000,  0.0000,  0.0000,  3.0000],\n",
      "        [61.0000,  1.0000, 33.5350,  0.0000,  0.0000,  0.0000],\n",
      "        [51.0000,  1.0000, 37.0000,  0.0000,  0.0000,  3.0000],\n",
      "        [24.0000,  0.0000, 29.9250,  0.0000,  0.0000,  1.0000],\n",
      "        [19.0000,  1.0000, 25.5550,  1.0000,  0.0000,  1.0000],\n",
      "        [50.0000,  1.0000, 31.8250,  0.0000,  1.0000,  0.0000],\n",
      "        [61.0000,  1.0000, 23.6550,  0.0000,  0.0000,  0.0000],\n",
      "        [20.0000,  1.0000, 29.7350,  0.0000,  0.0000,  1.0000],\n",
      "        [49.0000,  1.0000, 22.5150,  0.0000,  0.0000,  0.0000],\n",
      "        [47.0000,  0.0000, 32.0000,  1.0000,  0.0000,  3.0000],\n",
      "        [20.0000,  1.0000, 31.1300,  2.0000,  0.0000,  2.0000],\n",
      "        [43.0000,  1.0000, 30.1150,  3.0000,  0.0000,  1.0000],\n",
      "        [50.0000,  0.0000, 27.8300,  3.0000,  0.0000,  2.0000],\n",
      "        [22.0000,  0.0000, 30.4000,  0.0000,  0.0000,  0.0000],\n",
      "        [22.0000,  1.0000, 33.7700,  0.0000,  0.0000,  2.0000],\n",
      "        [35.0000,  0.0000, 35.8150,  1.0000,  0.0000,  1.0000],\n",
      "        [26.0000,  0.0000, 29.9200,  1.0000,  0.0000,  2.0000],\n",
      "        [36.0000,  1.0000, 33.4000,  2.0000,  1.0000,  3.0000]],\n",
      "       dtype=torch.float64) | tensor([ 6748.5912,  1526.3120,  2689.4954,  5227.9888,  8269.0440, 38711.0000,\n",
      "         3561.8889,  1977.8150, 21348.7060,  1137.0110,  4906.4096,  2801.2588,\n",
      "         5397.6167, 11163.5680,  2201.0971,  5003.8530,  9630.3970, 13112.6048,\n",
      "         3443.0640,  6123.5688,  2219.4451,  7731.8579,  1719.4363,  9288.0267,\n",
      "        10796.3502,  8823.9857, 14210.5359, 12982.8747,  4747.0529,  1682.5970,\n",
      "         2457.5020,  7265.7025, 21797.0004, 13143.3366,  8798.5930,  2850.6838,\n",
      "         2221.5644, 41097.1617, 13129.6035,  1769.5316,  8688.8589,  8551.3470,\n",
      "         2566.4707,  8410.0469, 19749.3834,  2741.9480,  1674.6323,  5630.4578,\n",
      "         3392.9768, 38415.4740], dtype=torch.float64)\n"
     ]
    }
   ],
   "source": [
    "for X_train, y_train in train_loader:\n",
    "    print(f\"{X_train} | {y_train}\")\n",
    "    break"
   ]
  },
  {
   "cell_type": "markdown",
   "metadata": {},
   "source": [
    "# Build model"
   ]
  },
  {
   "cell_type": "code",
   "execution_count": 62,
   "metadata": {},
   "outputs": [],
   "source": [
    "import torch.nn.functional as F\n",
    "import torch.nn as nn"
   ]
  },
  {
   "cell_type": "code",
   "execution_count": 64,
   "metadata": {},
   "outputs": [],
   "source": [
    "class LogisticModel(nn.Module):\n",
    "    def __init__(self):\n",
    "        super().__init__()\n",
    "        self.linear = nn.Linear(input_size, output_size)\n",
    "        \n",
    "    def forward(self, X):\n",
    "        out = self.linear(X)\n",
    "        return out\n",
    "    \n",
    "    def training_step(self, batch):\n",
    "        X, y = batch\n",
    "        out = self(X)\n",
    "        loss = F.mse_loss(out, y)\n",
    "        return loss\n",
    "    \n",
    "    def validation_step(self, batch):\n",
    "        X, y = batch\n",
    "        out = self(X)\n",
    "        loss = F.mse_loss(out, y)\n",
    "        return loss\n",
    "    \n",
    "    def validation_epoch_end(self, outputs):\n",
    "        batch_losses = [x['val_loss'] for x in outputs]\n",
    "        epoch_loss = torch.stack(batch_losses).mean()   # Combine losses\n",
    "        return {'val_loss': epoch_loss.item()}\n",
    "        \n",
    "    \n",
    "    def epoch_end(self, epoch, result, num_epochs):\n",
    "        # Print result every 20th epoch\n",
    "        if (epoch+1) % 20 == 0 or epoch == num_epochs-1:\n",
    "            print(\"Epoch [{}], val_loss: {:.4f}\".format(epoch+1, result['val_loss']))\n",
    "        "
   ]
  },
  {
   "cell_type": "code",
   "execution_count": 65,
   "metadata": {},
   "outputs": [
    {
     "ename": "NameError",
     "evalue": "name 'input_size' is not defined",
     "output_type": "error",
     "traceback": [
      "\u001b[1;31m---------------------------------------------------------------------------\u001b[0m",
      "\u001b[1;31mNameError\u001b[0m                                 Traceback (most recent call last)",
      "\u001b[1;32m~\\AppData\\Local\\Temp/ipykernel_2676/3546469553.py\u001b[0m in \u001b[0;36m<module>\u001b[1;34m\u001b[0m\n\u001b[1;32m----> 1\u001b[1;33m \u001b[0mmodel\u001b[0m \u001b[1;33m=\u001b[0m \u001b[0mLogisticModel\u001b[0m\u001b[1;33m(\u001b[0m\u001b[1;33m)\u001b[0m\u001b[1;33m\u001b[0m\u001b[1;33m\u001b[0m\u001b[0m\n\u001b[0m",
      "\u001b[1;32m~\\AppData\\Local\\Temp/ipykernel_2676/1989028635.py\u001b[0m in \u001b[0;36m__init__\u001b[1;34m(self)\u001b[0m\n\u001b[0;32m      2\u001b[0m     \u001b[1;32mdef\u001b[0m \u001b[0m__init__\u001b[0m\u001b[1;33m(\u001b[0m\u001b[0mself\u001b[0m\u001b[1;33m)\u001b[0m\u001b[1;33m:\u001b[0m\u001b[1;33m\u001b[0m\u001b[1;33m\u001b[0m\u001b[0m\n\u001b[0;32m      3\u001b[0m         \u001b[0msuper\u001b[0m\u001b[1;33m(\u001b[0m\u001b[1;33m)\u001b[0m\u001b[1;33m.\u001b[0m\u001b[0m__init__\u001b[0m\u001b[1;33m(\u001b[0m\u001b[1;33m)\u001b[0m\u001b[1;33m\u001b[0m\u001b[1;33m\u001b[0m\u001b[0m\n\u001b[1;32m----> 4\u001b[1;33m         \u001b[0mself\u001b[0m\u001b[1;33m.\u001b[0m\u001b[0mlinear\u001b[0m \u001b[1;33m=\u001b[0m \u001b[0mnn\u001b[0m\u001b[1;33m.\u001b[0m\u001b[0mLinear\u001b[0m\u001b[1;33m(\u001b[0m\u001b[0minput_size\u001b[0m\u001b[1;33m,\u001b[0m \u001b[0moutput_size\u001b[0m\u001b[1;33m)\u001b[0m\u001b[1;33m\u001b[0m\u001b[1;33m\u001b[0m\u001b[0m\n\u001b[0m\u001b[0;32m      5\u001b[0m \u001b[1;33m\u001b[0m\u001b[0m\n\u001b[0;32m      6\u001b[0m     \u001b[1;32mdef\u001b[0m \u001b[0mforward\u001b[0m\u001b[1;33m(\u001b[0m\u001b[0mself\u001b[0m\u001b[1;33m,\u001b[0m \u001b[0mX\u001b[0m\u001b[1;33m)\u001b[0m\u001b[1;33m:\u001b[0m\u001b[1;33m\u001b[0m\u001b[1;33m\u001b[0m\u001b[0m\n",
      "\u001b[1;31mNameError\u001b[0m: name 'input_size' is not defined"
     ]
    }
   ],
   "source": [
    "model = LogisticModel()"
   ]
  }
 ],
 "metadata": {
  "kernelspec": {
   "display_name": "Python 3 (ipykernel)",
   "language": "python",
   "name": "python3"
  },
  "language_info": {
   "codemirror_mode": {
    "name": "ipython",
    "version": 3
   },
   "file_extension": ".py",
   "mimetype": "text/x-python",
   "name": "python",
   "nbconvert_exporter": "python",
   "pygments_lexer": "ipython3",
   "version": "3.7.3"
  }
 },
 "nbformat": 4,
 "nbformat_minor": 2
}
